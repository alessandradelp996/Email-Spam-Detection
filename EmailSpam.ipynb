{
  "nbformat": 4,
  "nbformat_minor": 0,
  "metadata": {
    "colab": {
      "name": "EmailSpam.ipynb",
      "provenance": [],
      "collapsed_sections": [
        "peNLZjZcBlU1",
        "GAoL9pEUC3J2",
        "PLrj89P-F9EE",
        "f3IdDnc_GIRe",
        "DWGG0vm1GXkB"
      ]
    },
    "kernelspec": {
      "name": "python3",
      "display_name": "Python 3"
    },
    "language_info": {
      "name": "python"
    }
  },
  "cells": [
    {
      "cell_type": "markdown",
      "metadata": {
        "id": "kfCN5EbrBniN"
      },
      "source": [
        "# Email Ham-Spam Classification"
      ]
    },
    {
      "cell_type": "markdown",
      "metadata": {
        "id": "lO35R1dkBqzs"
      },
      "source": [
        "Dimostrazioni di utilizzo di tecniche di **NLP** sul dataset delle email di Enron. Mostro alcune tecniche di elaborazione dei testi e di riconoscimento delle email **spam**. Enjoy!\n",
        "\n",
        "\n",
        "**N.B.** Questo notebook è un estratto!"
      ]
    },
    {
      "cell_type": "markdown",
      "metadata": {
        "id": "peNLZjZcBlU1"
      },
      "source": [
        "## Get the data using Kaggle API"
      ]
    },
    {
      "cell_type": "code",
      "metadata": {
        "colab": {
          "base_uri": "https://localhost:8080/"
        },
        "id": "2lDkfDUB8153",
        "outputId": "02530bc3-727d-4196-fdaf-2a8d18155d78"
      },
      "source": [
        "!pip install kaggle"
      ],
      "execution_count": 1,
      "outputs": [
        {
          "output_type": "stream",
          "text": [
            "Requirement already satisfied: kaggle in /usr/local/lib/python3.7/dist-packages (1.5.10)\n",
            "Requirement already satisfied: requests in /usr/local/lib/python3.7/dist-packages (from kaggle) (2.23.0)\n",
            "Requirement already satisfied: python-dateutil in /usr/local/lib/python3.7/dist-packages (from kaggle) (2.8.1)\n",
            "Requirement already satisfied: tqdm in /usr/local/lib/python3.7/dist-packages (from kaggle) (4.41.1)\n",
            "Requirement already satisfied: python-slugify in /usr/local/lib/python3.7/dist-packages (from kaggle) (4.0.1)\n",
            "Requirement already satisfied: urllib3 in /usr/local/lib/python3.7/dist-packages (from kaggle) (1.24.3)\n",
            "Requirement already satisfied: six>=1.10 in /usr/local/lib/python3.7/dist-packages (from kaggle) (1.15.0)\n",
            "Requirement already satisfied: certifi in /usr/local/lib/python3.7/dist-packages (from kaggle) (2020.12.5)\n",
            "Requirement already satisfied: chardet<4,>=3.0.2 in /usr/local/lib/python3.7/dist-packages (from requests->kaggle) (3.0.4)\n",
            "Requirement already satisfied: idna<3,>=2.5 in /usr/local/lib/python3.7/dist-packages (from requests->kaggle) (2.10)\n",
            "Requirement already satisfied: text-unidecode>=1.3 in /usr/local/lib/python3.7/dist-packages (from python-slugify->kaggle) (1.3)\n"
          ],
          "name": "stdout"
        }
      ]
    },
    {
      "cell_type": "code",
      "metadata": {
        "colab": {
          "resources": {
            "http://localhost:8080/nbextensions/google.colab/files.js": {
              "data": "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",
              "ok": true,
              "headers": [
                [
                  "content-type",
                  "application/javascript"
                ]
              ],
              "status": 200,
              "status_text": ""
            }
          },
          "base_uri": "https://localhost:8080/",
          "height": 89
        },
        "id": "3EU1FMCG890o",
        "outputId": "58f6924a-c033-4eef-eb72-157e2e638edb"
      },
      "source": [
        "from google.colab import files\n",
        "files.upload()"
      ],
      "execution_count": 5,
      "outputs": [
        {
          "output_type": "display_data",
          "data": {
            "text/html": [
              "\n",
              "     <input type=\"file\" id=\"files-3298efbf-47e1-4976-92d2-4002af7f3e7f\" name=\"files[]\" multiple disabled\n",
              "        style=\"border:none\" />\n",
              "     <output id=\"result-3298efbf-47e1-4976-92d2-4002af7f3e7f\">\n",
              "      Upload widget is only available when the cell has been executed in the\n",
              "      current browser session. Please rerun this cell to enable.\n",
              "      </output>\n",
              "      <script src=\"/nbextensions/google.colab/files.js\"></script> "
            ],
            "text/plain": [
              "<IPython.core.display.HTML object>"
            ]
          },
          "metadata": {
            "tags": []
          }
        },
        {
          "output_type": "stream",
          "text": [
            "Saving kaggle.json to kaggle (1).json\n"
          ],
          "name": "stdout"
        },
        {
          "output_type": "execute_result",
          "data": {
            "text/plain": [
              "{'kaggle.json': b'{\"username\":\"delpreales\",\"key\":\"b44e7562e691d5b6a3494ddd5e4d9a57\"}'}"
            ]
          },
          "metadata": {
            "tags": []
          },
          "execution_count": 5
        }
      ]
    },
    {
      "cell_type": "code",
      "metadata": {
        "id": "cdngY68b89yE"
      },
      "source": [
        "!mkdir ~/.kaggle\n",
        "!cp kaggle.json ~/.kaggle/"
      ],
      "execution_count": null,
      "outputs": []
    },
    {
      "cell_type": "code",
      "metadata": {
        "id": "pSsw0lEr89vY"
      },
      "source": [
        "!chmod 600 ~/.kaggle/kaggle.json"
      ],
      "execution_count": 7,
      "outputs": []
    },
    {
      "cell_type": "code",
      "metadata": {
        "colab": {
          "base_uri": "https://localhost:8080/"
        },
        "id": "oQ4gYM7QAoDl",
        "outputId": "b9aa374b-6d88-454c-a3ff-0dce6f4a75d9"
      },
      "source": [
        "!kaggle datasets list -s email"
      ],
      "execution_count": 18,
      "outputs": [
        {
          "output_type": "stream",
          "text": [
            "Warning: Looks like you're using an outdated API Version, please consider updating (server 1.5.12 / client 1.5.4)\n",
            "ref                                                           title                                               size  lastUpdated          downloadCount  \n",
            "------------------------------------------------------------  ------------------------------------------------  ------  -------------------  -------------  \n",
            "veleon/ham-and-spam-dataset                                   Email Spam                                          12MB  2019-01-20 16:43:20           3448  \n",
            "wcukierski/enron-email-dataset                                The Enron Email Dataset                            358MB  2016-06-16 20:55:19          27469  \n",
            "kaggle/hillary-clinton-emails                                 Hillary Clinton's Emails                            12MB  2019-11-14 05:31:24          16210  \n",
            "balaka18/email-spam-classification-dataset-csv                Email Spam Classification Dataset CSV                2MB  2020-03-10 05:08:13           2814  \n",
            "somesh24/spambase                                             Spam Email Classification                          127KB  2020-07-09 19:16:38            451  \n",
            "rowhitswami/all-indian-companies-registration-data-1900-2019  Indian Companies Registration Data [1857 - 2020]   112MB  2020-12-12 03:59:01           1256  \n",
            "llabhishekll/fraud-email-dataset                              Fraud Email Dataset                                  6MB  2018-08-02 06:17:38            956  \n",
            "loveall/email-campaign-management-for-sme                     Email Campaign Management for SME                    1MB  2017-10-10 00:23:06           1370  \n",
            "rtatman/fraudulent-email-corpus                               Fraudulent E-mail Corpus                             6MB  2017-07-25 18:41:30           5471  \n",
            "nitishabharathi/email-spam-dataset                            Email Spam Dataset                                  17MB  2020-10-30 04:22:42            323  \n",
            "mitusha/email-dataset                                         Email Dataset                                     1018KB  2017-11-12 05:51:44            742  \n",
            "loveall/email-status-tracking                                 Email Status Tracking                              888KB  2017-08-09 09:32:26            391  \n",
            "emarock/enricos-email-flows                                   Enrico's Email Flows                                12MB  2018-03-21 10:10:40            197  \n",
            "terminus7/pokemon-challenge                                   Pokemon- Weedle's Cave                             285KB  2017-09-21 08:43:04          31283  \n",
            "drobchak1988/tfrecords-gender                                 Gender predict from email                            3GB  2020-06-23 12:28:20             54  \n",
            "dipankarsrirag/topic-modelling-on-emails                      Text Classification on Emails                       10MB  2020-09-22 01:54:15            135  \n",
            "thoughtvector/customer-support-on-twitter                     Customer Support on Twitter                        169MB  2017-12-03 23:44:27          14020  \n",
            "xainano/handwrittenmathsymbols                                Handwritten math symbols dataset                   343MB  2017-01-15 17:58:48           7846  \n",
            "robroseknows/hillary-clinton-emails                           Hillary Clinton's Emails                           858MB  2019-12-04 04:57:55            143  \n",
            "ruslankl/mice-protein-expression                              Mice Protein Expression                            423KB  2018-05-06 15:09:39           2448  \n"
          ],
          "name": "stdout"
        }
      ]
    },
    {
      "cell_type": "code",
      "metadata": {
        "colab": {
          "base_uri": "https://localhost:8080/"
        },
        "id": "MbEJnewA838h",
        "outputId": "0facbc8d-c933-4942-f553-c34ce071a53c"
      },
      "source": [
        "!kaggle datasets download -d \"veleon/ham-and-spam-dataset\""
      ],
      "execution_count": 27,
      "outputs": [
        {
          "output_type": "stream",
          "text": [
            "Downloading ham-and-spam-dataset.zip to /content\n",
            "\r  0% 0.00/12.2M [00:00<?, ?B/s]\n",
            "\r100% 12.2M/12.2M [00:00<00:00, 102MB/s]\n"
          ],
          "name": "stdout"
        }
      ]
    },
    {
      "cell_type": "code",
      "metadata": {
        "id": "uSIBo5pG835p"
      },
      "source": [
        "!unzip 'ham-and-spam-dataset.zip'"
      ],
      "execution_count": null,
      "outputs": []
    },
    {
      "cell_type": "markdown",
      "metadata": {
        "id": "GAoL9pEUC3J2"
      },
      "source": [
        "## Data Loading"
      ]
    },
    {
      "cell_type": "code",
      "metadata": {
        "id": "hHFhZ8Po832k"
      },
      "source": [
        "import pandas as pd\n",
        "import numpy as np\n",
        "import nltk\n",
        "import os\n",
        "import re\n",
        "from gensim.models import Word2Vec"
      ],
      "execution_count": 21,
      "outputs": []
    },
    {
      "cell_type": "code",
      "metadata": {
        "id": "pMECVFxgEwhz"
      },
      "source": [
        "ds_dir = 'hamnspam'\n",
        "\n",
        "def load_ds():\n",
        "  mails = []\n",
        "  labels = []\n",
        "  for dir in os.listdir(ds_dir):\n",
        "    for file in os.listdir(ds_dir+'/'+dir):\n",
        "      mail = open(ds_dir+'/'+dir+'/'+file,'r', encoding='latin-1')\n",
        "      text = mail.readlines()\n",
        "      text = \"\".join(text)\n",
        "      mails.append(text)\n",
        "      labels.append(dir)\n",
        "  return mails, labels"
      ],
      "execution_count": 34,
      "outputs": []
    },
    {
      "cell_type": "code",
      "metadata": {
        "id": "8LvsGtNIFnzN"
      },
      "source": [
        "mails, labels = load_ds()"
      ],
      "execution_count": 35,
      "outputs": []
    },
    {
      "cell_type": "code",
      "metadata": {
        "colab": {
          "base_uri": "https://localhost:8080/",
          "height": 256
        },
        "id": "UeEcp6RvFnxl",
        "outputId": "ff53c161-446b-4068-cc12-c189e2c5a526"
      },
      "source": [
        "mails[0]"
      ],
      "execution_count": 37,
      "outputs": [
        {
          "output_type": "execute_result",
          "data": {
            "application/vnd.google.colaboratory.intrinsic+json": {
              "type": "string"
            },
            "text/plain": [
              "\"From zzzzrubin@mx03.readyserve21.com  Tue Sep 24 10:52:25 2002\\nReturn-Path: <zzzzrubin@mx03.readyserve21.com>\\nDelivered-To: zzzz@localhost.jmason.org\\nReceived: from localhost (jalapeno [127.0.0.1])\\n\\tby zzzzason.org (Postfix) with ESMTP id 3496D16F03\\n\\tfor <zzzz@localhost>; Tue, 24 Sep 2002 10:52:25 +0100 (IST)\\nReceived: from jalapeno [127.0.0.1]\\n\\tby localhost with IMAP (fetchmail-5.9.0)\\n\\tfor zzzz@localhost (single-drop); Tue, 24 Sep 2002 10:52:25 +0100 (IST)\\nReceived: from webnote.net (mail.webnote.net [193.120.211.219]) by\\n    dogma.slashnull.org (8.11.6/8.11.6) with ESMTP id g8O45iC20257 for\\n    <zzzz@jmason.org>; Tue, 24 Sep 2002 05:05:44 +0100\\nReceived: from smtp5.serveit21.com (smtp5.serveit21.com [64.25.34.207]) by\\n    webnote.net (8.9.3/8.9.3) with ESMTP id FAA16645 for <zzzz@example.com>;\\n    Tue, 24 Sep 2002 05:06:18 +0100\\nFrom: zzzzrubin@mx03.readyserve21.com\\nDate: Tue, 24 Sep 2002 08:08:34 -0400\\nMessage-Id: <200209241208.g8OC8Yk24755@smtp5.serveit21.com>\\nX-Mailer: KMail [version 1.2]\\nReply-To: <zzzzrubin@mx03.readyserve21.com>\\nTo: <zzzz@new-atlantean.com>\\nSubject: $250,000... as low as $6.50 per month.             edahx\\n\\nWhen America's top companies compete for your business, you win.\\n\\nIn today's world, it's important to expect the unexpected. When preparing for the future, we must always consider our family. To plan for your family's future, the right life insurance policy is a necessity. But who wants to pay too much for life insurance? Let us help you find the right quote, quickly and easily...\\n\\nCompare your coverage...\\n$250,000... as low as $6.50 per month.\\n$500,000... as low as $9.50 per month.\\n$1,000,000... as low as $15.50 per month.\\n\\nhttp://quotes.readyserve21.com/sure_quote/LF06-237600/\\n\\nTake a moment.\\nLet us show you that we are here to save time, and money.\\n\\nReceive up to 15 quotes in seconds.\\n\\nhttp://quotes.readyserve21.com/sure_quote/LF06-237600/\\n\\n\\nClick here to delete your address from future updates.\\nhttp://quotes.readyserve21.com/sure_quote/rm/\\n\\n\\n\""
            ]
          },
          "metadata": {
            "tags": []
          },
          "execution_count": 37
        }
      ]
    },
    {
      "cell_type": "code",
      "metadata": {
        "colab": {
          "base_uri": "https://localhost:8080/",
          "height": 35
        },
        "id": "EveE0P40Ewbr",
        "outputId": "e3686cf8-0b97-46ce-c7a5-a926bcdcbdc0"
      },
      "source": [
        "labels[0]"
      ],
      "execution_count": 38,
      "outputs": [
        {
          "output_type": "execute_result",
          "data": {
            "application/vnd.google.colaboratory.intrinsic+json": {
              "type": "string"
            },
            "text/plain": [
              "'spam'"
            ]
          },
          "metadata": {
            "tags": []
          },
          "execution_count": 38
        }
      ]
    },
    {
      "cell_type": "markdown",
      "metadata": {
        "id": "PLrj89P-F9EE"
      },
      "source": [
        "## Pre-processing"
      ]
    },
    {
      "cell_type": "code",
      "metadata": {
        "id": "jiD0PlsoF_xe"
      },
      "source": [
        "new_mails=[]\n",
        "for i in range(len(mails)):\n",
        "  mails[i] = mails[i].strip()     # rimuovo blanks\n",
        "  new_mails.append(mails[i].lower())  # converto tutto in formato lowercase"
      ],
      "execution_count": 40,
      "outputs": []
    },
    {
      "cell_type": "code",
      "metadata": {
        "colab": {
          "base_uri": "https://localhost:8080/",
          "height": 256
        },
        "id": "HMONwHs0F_u2",
        "outputId": "ad10f933-5739-4205-d3ec-fcc087bdc3ac"
      },
      "source": [
        "new_mails[0]"
      ],
      "execution_count": 41,
      "outputs": [
        {
          "output_type": "execute_result",
          "data": {
            "application/vnd.google.colaboratory.intrinsic+json": {
              "type": "string"
            },
            "text/plain": [
              "\"from zzzzrubin@mx03.readyserve21.com  tue sep 24 10:52:25 2002\\nreturn-path: <zzzzrubin@mx03.readyserve21.com>\\ndelivered-to: zzzz@localhost.jmason.org\\nreceived: from localhost (jalapeno [127.0.0.1])\\n\\tby zzzzason.org (postfix) with esmtp id 3496d16f03\\n\\tfor <zzzz@localhost>; tue, 24 sep 2002 10:52:25 +0100 (ist)\\nreceived: from jalapeno [127.0.0.1]\\n\\tby localhost with imap (fetchmail-5.9.0)\\n\\tfor zzzz@localhost (single-drop); tue, 24 sep 2002 10:52:25 +0100 (ist)\\nreceived: from webnote.net (mail.webnote.net [193.120.211.219]) by\\n    dogma.slashnull.org (8.11.6/8.11.6) with esmtp id g8o45ic20257 for\\n    <zzzz@jmason.org>; tue, 24 sep 2002 05:05:44 +0100\\nreceived: from smtp5.serveit21.com (smtp5.serveit21.com [64.25.34.207]) by\\n    webnote.net (8.9.3/8.9.3) with esmtp id faa16645 for <zzzz@example.com>;\\n    tue, 24 sep 2002 05:06:18 +0100\\nfrom: zzzzrubin@mx03.readyserve21.com\\ndate: tue, 24 sep 2002 08:08:34 -0400\\nmessage-id: <200209241208.g8oc8yk24755@smtp5.serveit21.com>\\nx-mailer: kmail [version 1.2]\\nreply-to: <zzzzrubin@mx03.readyserve21.com>\\nto: <zzzz@new-atlantean.com>\\nsubject: $250,000... as low as $6.50 per month.             edahx\\n\\nwhen america's top companies compete for your business, you win.\\n\\nin today's world, it's important to expect the unexpected. when preparing for the future, we must always consider our family. to plan for your family's future, the right life insurance policy is a necessity. but who wants to pay too much for life insurance? let us help you find the right quote, quickly and easily...\\n\\ncompare your coverage...\\n$250,000... as low as $6.50 per month.\\n$500,000... as low as $9.50 per month.\\n$1,000,000... as low as $15.50 per month.\\n\\nhttp://quotes.readyserve21.com/sure_quote/lf06-237600/\\n\\ntake a moment.\\nlet us show you that we are here to save time, and money.\\n\\nreceive up to 15 quotes in seconds.\\n\\nhttp://quotes.readyserve21.com/sure_quote/lf06-237600/\\n\\n\\nclick here to delete your address from future updates.\\nhttp://quotes.readyserve21.com/sure_quote/rm/\""
            ]
          },
          "metadata": {
            "tags": []
          },
          "execution_count": 41
        }
      ]
    },
    {
      "cell_type": "markdown",
      "metadata": {
        "id": "f3IdDnc_GIRe"
      },
      "source": [
        "## Tokenization"
      ]
    },
    {
      "cell_type": "code",
      "metadata": {
        "colab": {
          "base_uri": "https://localhost:8080/"
        },
        "id": "DWrmX2-iGH_-",
        "outputId": "e529be26-17f5-4741-9482-3efd98674ccb"
      },
      "source": [
        "nltk.download('punkt')\n",
        "from nltk import word_tokenize\n",
        "\n",
        "for i in range(len(mails)):\n",
        "  new_mails[i] = word_tokenize(new_mails[i])     # word tokenizer"
      ],
      "execution_count": 42,
      "outputs": [
        {
          "output_type": "stream",
          "text": [
            "[nltk_data] Downloading package punkt to /root/nltk_data...\n",
            "[nltk_data]   Unzipping tokenizers/punkt.zip.\n"
          ],
          "name": "stdout"
        }
      ]
    },
    {
      "cell_type": "code",
      "metadata": {
        "colab": {
          "base_uri": "https://localhost:8080/",
          "height": 35
        },
        "id": "iV891AHCGd8c",
        "outputId": "f5d05fed-6c43-4f71-f172-1e01b332c795"
      },
      "source": [
        "new_mails[0][0]"
      ],
      "execution_count": 44,
      "outputs": [
        {
          "output_type": "execute_result",
          "data": {
            "application/vnd.google.colaboratory.intrinsic+json": {
              "type": "string"
            },
            "text/plain": [
              "'from'"
            ]
          },
          "metadata": {
            "tags": []
          },
          "execution_count": 44
        }
      ]
    },
    {
      "cell_type": "markdown",
      "metadata": {
        "id": "DWGG0vm1GXkB"
      },
      "source": [
        "## Removing Stop-Words"
      ]
    },
    {
      "cell_type": "code",
      "metadata": {
        "colab": {
          "base_uri": "https://localhost:8080/"
        },
        "id": "V5U6WCEjGH9H",
        "outputId": "73224fd8-fe7e-46fe-fe36-fd88a9187d9d"
      },
      "source": [
        "nltk.download('stopwords')\n",
        "from nltk.corpus import stopwords\n",
        "from string import punctuation\n",
        "from string import digits\n",
        "\n",
        "sw = set(stopwords.words('english'))    # la verifica sugli insiemi è + veloce\n",
        "\n",
        "# aggiungo al set di stopwords anche le punteggiature\n",
        "sw = sw.union(set(punctuation))\n",
        "# aggiungo la parola \"subject\" per rimuoverla \n",
        "sw = sw.union({'subject'})\n",
        "\n",
        "for i in range(len(mails)):\n",
        "    new_mails[i] = [word for word in new_mails[i] if word not in sw and not len(word)<=2\n",
        "                    or word=='re' and len(set([char for char in word]).intersection(set([char for char in digits])))==0]    # rimuovo stopwords e sillabe"
      ],
      "execution_count": 45,
      "outputs": [
        {
          "output_type": "stream",
          "text": [
            "[nltk_data] Downloading package stopwords to /root/nltk_data...\n",
            "[nltk_data]   Unzipping corpora/stopwords.zip.\n"
          ],
          "name": "stdout"
        }
      ]
    },
    {
      "cell_type": "markdown",
      "metadata": {
        "id": "S_OwIqF7G3J5"
      },
      "source": [
        "## Lemmatization"
      ]
    },
    {
      "cell_type": "markdown",
      "metadata": {
        "id": "ebBsBI0AHBp1"
      },
      "source": [
        "Per la lemmatizzazione uso **WordNet**, per cui vado prima a effettuare il **PoS tagging** (Part of Speech). "
      ]
    },
    {
      "cell_type": "code",
      "metadata": {
        "colab": {
          "base_uri": "https://localhost:8080/"
        },
        "id": "YEvFnIbVF_sc",
        "outputId": "039989d0-714e-4831-8b89-88fea7327311"
      },
      "source": [
        "from nltk.stem import WordNetLemmatizer\n",
        "from nltk import pos_tag\n",
        "nltk.download('wordnet')\n",
        "nltk.download('averaged_perceptron_tagger')\n",
        "\n",
        "\n",
        "def wordnet_tag(tagged_mail):\n",
        "\n",
        "    wordnet_tag = {'NN':'n', 'JJ':'a',   # noun & adjective\n",
        "                  'VB':'v', 'RB':'r'}   # verb & adverb\n",
        "    try:\n",
        "        return wordnet_tag[tagged_mail[:2]]\n",
        "    except:\n",
        "        return 'n'\n",
        "\n",
        "\n",
        "wn = WordNetLemmatizer()\n",
        "mails_tagged = []\n",
        "for i in range(len(mails)):\n",
        "    mails_tagged.append([wn.lemmatize(word, pos=wordnet_tag(tag)) for word, tag in pos_tag(new_mails[i])])"
      ],
      "execution_count": 48,
      "outputs": [
        {
          "output_type": "stream",
          "text": [
            "[nltk_data] Downloading package wordnet to /root/nltk_data...\n",
            "[nltk_data]   Package wordnet is already up-to-date!\n",
            "[nltk_data] Downloading package averaged_perceptron_tagger to\n",
            "[nltk_data]     /root/nltk_data...\n",
            "[nltk_data]   Package averaged_perceptron_tagger is already up-to-\n",
            "[nltk_data]       date!\n"
          ],
          "name": "stdout"
        }
      ]
    },
    {
      "cell_type": "markdown",
      "metadata": {
        "id": "fDBItwtBHw4l"
      },
      "source": [
        "## SPAM CLASSIFICATION"
      ]
    },
    {
      "cell_type": "markdown",
      "metadata": {
        "id": "ZxK8s4FZH0TC"
      },
      "source": [
        "Userò 2 diversi metodi per la classificazione:\n",
        "* Classificazione con **SVM**\n",
        "* Rete ricorrente **LSTM**\n",
        "\n",
        "Per questo vado a usare due rappresentazioni vettoriali:\n",
        "* Matrice sparsa del **TF-IDF** per il classificatore di scikit-learn\n",
        "* Embedding di Keras per la rete neurale"
      ]
    },
    {
      "cell_type": "code",
      "metadata": {
        "id": "j2Qfq1G6I6hx"
      },
      "source": [
        "from sklearn.model_selection import train_test_split\n",
        "from sklearn.decomposition import PCA, TruncatedSVD\n",
        "from sklearn import metrics\n",
        "from joblib import dump\n",
        "from sklearn.model_selection import cross_val_score\n",
        "from sklearn.metrics import classification_report,confusion_matrix\n",
        "from sklearn.feature_extraction.text import CountVectorizer, TfidfVectorizer"
      ],
      "execution_count": 51,
      "outputs": []
    },
    {
      "cell_type": "code",
      "metadata": {
        "id": "qkXlj907I9e-"
      },
      "source": [
        "e_labels=np.array(labels)\n",
        "e_labels[e_labels=='ham'] = 0\n",
        "e_labels[e_labels=='spam'] = 1\n",
        "\n",
        "X_train, X_test, y_train, y_test = train_test_split(mails_tagged, e_labels, test_size=0.2, random_state=42)"
      ],
      "execution_count": 52,
      "outputs": []
    },
    {
      "cell_type": "markdown",
      "metadata": {
        "id": "jQqfj9GEI3Q9"
      },
      "source": [
        "### Vectorization & Classification"
      ]
    },
    {
      "cell_type": "markdown",
      "metadata": {
        "id": "v1V9r138JL9L"
      },
      "source": [
        "**TF-IDF**"
      ]
    },
    {
      "cell_type": "code",
      "metadata": {
        "id": "hVfohwhKH2zz"
      },
      "source": [
        "def my_tokenizer(input):\n",
        "  return input\n",
        "\n",
        "vectorizer = TfidfVectorizer(tokenizer=my_tokenizer, lowercase=False, max_features=4000)\n",
        "\n",
        "train_emb = vectorizer.fit_transform(X_train)\n",
        "test_emb = vectorizer.fit_transform(X_test)\n",
        "dataset_emb = vectorizer.fit_transform(mails_tagged)"
      ],
      "execution_count": 54,
      "outputs": []
    },
    {
      "cell_type": "markdown",
      "metadata": {
        "id": "mR-bf4B9Jb3Q"
      },
      "source": [
        "Applico la **PCA**"
      ]
    },
    {
      "cell_type": "code",
      "metadata": {
        "id": "c3GDPwcNJdpL"
      },
      "source": [
        "pca = TruncatedSVD(n_components=30)     # pca per matrici sparse\n",
        "redu_train = pca.fit_transform(train_emb)\n",
        "redu_test = pca.fit_transform(test_emb)\n",
        "redu_set = pca.fit_transform(dataset_emb)"
      ],
      "execution_count": 62,
      "outputs": []
    },
    {
      "cell_type": "markdown",
      "metadata": {
        "id": "L_UVf_ZeJiDA"
      },
      "source": [
        "Uso il **Gaussian Kernel**"
      ]
    },
    {
      "cell_type": "code",
      "metadata": {
        "colab": {
          "base_uri": "https://localhost:8080/"
        },
        "id": "t-svpwWnJdgV",
        "outputId": "26fc568e-2004-4768-9578-990703a7d359"
      },
      "source": [
        "from sklearn.svm import SVC\n",
        "\n",
        "rbf_clf = SVC(kernel='rbf', C=0.01)\n",
        "\n",
        "# 10 fold cross-validation\n",
        "score = cross_val_score(rbf_clf, redu_set, e_labels, cv=10)\n",
        "score = score.mean()\n",
        "print(\"Accuracy = %.4f\" % score)\n",
        "\n",
        "rbf_clf.fit(redu_train, y_train)"
      ],
      "execution_count": 63,
      "outputs": [
        {
          "output_type": "stream",
          "text": [
            "Accuracy = 0.8358\n"
          ],
          "name": "stdout"
        },
        {
          "output_type": "execute_result",
          "data": {
            "text/plain": [
              "SVC(C=0.01, break_ties=False, cache_size=200, class_weight=None, coef0=0.0,\n",
              "    decision_function_shape='ovr', degree=3, gamma='scale', kernel='rbf',\n",
              "    max_iter=-1, probability=False, random_state=None, shrinking=True,\n",
              "    tol=0.001, verbose=False)"
            ]
          },
          "metadata": {
            "tags": []
          },
          "execution_count": 63
        }
      ]
    },
    {
      "cell_type": "code",
      "metadata": {
        "colab": {
          "base_uri": "https://localhost:8080/"
        },
        "id": "6EufZh9_H2xb",
        "outputId": "c141d169-2c24-4b9a-d393-0dee2e4d5757"
      },
      "source": [
        "# precision e recall\n",
        "y_scores = rbf_clf.predict(redu_test)\n",
        "precision = metrics.precision_score(y_test, y_scores, average='weighted')\n",
        "recall = metrics.recall_score(y_test, y_scores, average='weighted')\n",
        "\n",
        "print(\"Precision on test set =\", precision)\n",
        "print(\"Recall on test set =\", recall)"
      ],
      "execution_count": 64,
      "outputs": [
        {
          "output_type": "stream",
          "text": [
            "Precision on test set = 0.6616531081830382\n",
            "Recall on test set = 0.8134206219312602\n"
          ],
          "name": "stdout"
        },
        {
          "output_type": "stream",
          "text": [
            "/usr/local/lib/python3.7/dist-packages/sklearn/metrics/_classification.py:1272: UndefinedMetricWarning: Precision is ill-defined and being set to 0.0 in labels with no predicted samples. Use `zero_division` parameter to control this behavior.\n",
            "  _warn_prf(average, modifier, msg_start, len(result))\n"
          ],
          "name": "stderr"
        }
      ]
    },
    {
      "cell_type": "markdown",
      "metadata": {
        "id": "VwK5Cx69KjXG"
      },
      "source": [
        "**KERAS pre-processing**"
      ]
    },
    {
      "cell_type": "code",
      "metadata": {
        "colab": {
          "base_uri": "https://localhost:8080/"
        },
        "id": "L1ySS82zKXz0",
        "outputId": "9735d3bd-fbcb-4853-981f-c4ee6aeed42f"
      },
      "source": [
        "from tensorflow import keras\n",
        "from keras.preprocessing.text import Tokenizer\n",
        "from keras.utils import np_utils\n",
        "from keras.preprocessing import sequence\n",
        "\n",
        "mails_keras = np.array(mails_tagged)\n",
        "\n",
        "from keras.preprocessing.text import Tokenizer\n",
        "tokenizer = Tokenizer(num_words=None)\n",
        "tokenizer.fit_on_texts(mails_keras)\n",
        "sequences = tokenizer.texts_to_sequences(mails_keras)\n",
        "\n",
        "from keras.utils import np_utils\n",
        "from keras.preprocessing import sequence\n",
        "dataset = sequence.pad_sequences(sequences, padding='post', truncating='post', maxlen=50)\n",
        "\n",
        "from sklearn.model_selection import train_test_split\n",
        "X_train, X_test, y_train, y_test = train_test_split(dataset, e_labels, test_size=0.2, random_state=42)\n",
        "print('X_train shape:', X_train.shape)\n",
        "print('X_test shape:', X_test.shape)\n",
        "\n",
        "y_train = np.array(y_train, dtype=np.int32)\n",
        "y_test = np.array(y_test, dtype=np.int32)"
      ],
      "execution_count": 80,
      "outputs": [
        {
          "output_type": "stream",
          "text": [
            "/usr/local/lib/python3.7/dist-packages/ipykernel_launcher.py:6: VisibleDeprecationWarning: Creating an ndarray from ragged nested sequences (which is a list-or-tuple of lists-or-tuples-or ndarrays with different lengths or shapes) is deprecated. If you meant to do this, you must specify 'dtype=object' when creating the ndarray\n",
            "  \n"
          ],
          "name": "stderr"
        },
        {
          "output_type": "stream",
          "text": [
            "X_train shape: (2441, 50)\n",
            "X_test shape: (611, 50)\n"
          ],
          "name": "stdout"
        }
      ]
    },
    {
      "cell_type": "markdown",
      "metadata": {
        "id": "ba6Yb_JQLE7d"
      },
      "source": [
        "**LSTM**"
      ]
    },
    {
      "cell_type": "code",
      "metadata": {
        "id": "9zMN9ugjLBj5"
      },
      "source": [
        "from keras.models import Sequential\n",
        "from keras.layers import Dense, Embedding, LSTM\n",
        "\n",
        "vocab = tokenizer.word_index.keys()\n",
        "\n",
        "model=Sequential()\n",
        "model.add(Embedding(len(tokenizer.word_index)+1,64))\n",
        "model.add(LSTM(32))\n",
        "model.add(Dense(1))\n",
        "model.compile(loss='mse',optimizer='adam',metrics=['accuracy'])"
      ],
      "execution_count": 84,
      "outputs": []
    },
    {
      "cell_type": "code",
      "metadata": {
        "colab": {
          "base_uri": "https://localhost:8080/"
        },
        "id": "_UIFKStDLBgX",
        "outputId": "80ee1b37-75a3-4470-c5c8-0c8484d95ded"
      },
      "source": [
        "history = model.fit(X_train, y_train, epochs=3, callbacks=[lr_scheduler], validation_data=(X_test, y_test), batch_size=8)"
      ],
      "execution_count": 85,
      "outputs": [
        {
          "output_type": "stream",
          "text": [
            "Epoch 1/3\n",
            "306/306 [==============================] - 29s 87ms/step - loss: 0.0769 - accuracy: 0.9055 - val_loss: 0.0022 - val_accuracy: 0.9984\n",
            "Epoch 2/3\n",
            "306/306 [==============================] - 26s 86ms/step - loss: 9.3443e-04 - accuracy: 0.9999 - val_loss: 0.0015 - val_accuracy: 0.9984\n",
            "Epoch 3/3\n",
            "306/306 [==============================] - 27s 87ms/step - loss: 7.5664e-05 - accuracy: 1.0000 - val_loss: 0.0015 - val_accuracy: 0.9984\n"
          ],
          "name": "stdout"
        }
      ]
    },
    {
      "cell_type": "markdown",
      "metadata": {
        "id": "_ByXxWhcN-KA"
      },
      "source": [
        "### LSTM Results"
      ]
    },
    {
      "cell_type": "code",
      "metadata": {
        "id": "-KKJRUMXOFiE"
      },
      "source": [
        "# utility method for saving plots\n",
        "import os\n",
        "import matplotlib.pyplot as plt\n",
        "!mkdir plots\n",
        "\n",
        "def save_fig(fig_id, tight_layout=True, fig_extension=\"png\", resolution=300):\n",
        "  path = os.path.join('plots/', fig_id + \".\" + fig_extension)\n",
        "  if tight_layout:\n",
        "    plt.tight_layout()\n",
        "  plt.savefig(path, format=fig_extension, dpi=resolution)"
      ],
      "execution_count": null,
      "outputs": []
    },
    {
      "cell_type": "code",
      "metadata": {
        "colab": {
          "base_uri": "https://localhost:8080/",
          "height": 590
        },
        "id": "5iZ1N-6BLBeF",
        "outputId": "863d36d4-3a6b-43a0-c11d-7052352bafff"
      },
      "source": [
        "import matplotlib.pyplot as plt\n",
        "\n",
        "plt.plot(history.history['accuracy'])\n",
        "plt.plot(history.history['val_accuracy'])\n",
        "plt.title('Model accuracy')\n",
        "plt.ylabel('Accuracy')\n",
        "plt.xlabel('Epoch')\n",
        "plt.legend(['Train', 'Test'], loc='upper left')\n",
        "plt.show()\n",
        "save_fig('lstm_accuracy')\n",
        "\n",
        "plt.plot(history.history['loss'])\n",
        "plt.plot(history.history['val_loss'])\n",
        "plt.title('Model accuracy')\n",
        "plt.ylabel('Accuracy')\n",
        "plt.xlabel('Epoch')\n",
        "plt.legend(['Train', 'Test'], loc='upper left')\n",
        "plt.show()\n",
        "save_fig('lstm_loss')"
      ],
      "execution_count": 87,
      "outputs": [
        {
          "output_type": "display_data",
          "data": {
            "image/png": "[encoded data removed]",
            "text/plain": [
              "<Figure size 432x288 with 1 Axes>"
            ]
          },
          "metadata": {
            "tags": [],
            "needs_background": "light"
          }
        },
        {
          "output_type": "display_data",
          "data": {
            "image/png": "[encoded data removed]",
            "text/plain": [
              "<Figure size 432x288 with 1 Axes>"
            ]
          },
          "metadata": {
            "tags": [],
            "needs_background": "light"
          }
        },
        {
          "output_type": "display_data",
          "data": {
            "text/plain": [
              "<Figure size 432x288 with 0 Axes>"
            ]
          },
          "metadata": {
            "tags": []
          }
        }
      ]
    },
    {
      "cell_type": "markdown",
      "metadata": {
        "id": "oKnxAPUsOgYJ"
      },
      "source": [
        "Precision, Recall & Confusion Matrix 👻"
      ]
    },
    {
      "cell_type": "code",
      "metadata": {
        "colab": {
          "base_uri": "https://localhost:8080/"
        },
        "id": "J04ByHQFKXxc",
        "outputId": "fc2056f8-b17c-42a5-c59f-6e697ce3e6df"
      },
      "source": [
        "# precision, recall e confusion matrix\n",
        "y_pred = model.predict_classes(X_test)\n",
        "print('Precision on test set: ',metrics.precision_score(y_test,y_pred))\n",
        "print('Recall on test set: ',metrics.recall_score(y_test,y_pred))"
      ],
      "execution_count": 88,
      "outputs": [
        {
          "output_type": "stream",
          "text": [
            "/usr/local/lib/python3.7/dist-packages/tensorflow/python/keras/engine/sequential.py:450: UserWarning: `model.predict_classes()` is deprecated and will be removed after 2021-01-01. Please use instead:* `np.argmax(model.predict(x), axis=-1)`,   if your model does multi-class classification   (e.g. if it uses a `softmax` last-layer activation).* `(model.predict(x) > 0.5).astype(\"int32\")`,   if your model does binary classification   (e.g. if it uses a `sigmoid` last-layer activation).\n",
            "  warnings.warn('`model.predict_classes()` is deprecated and '\n"
          ],
          "name": "stderr"
        },
        {
          "output_type": "stream",
          "text": [
            "Precision on test set:  1.0\n",
            "Recall on test set:  0.9912280701754386\n"
          ],
          "name": "stdout"
        }
      ]
    },
    {
      "cell_type": "markdown",
      "metadata": {
        "id": "5OfWwh81PhSS"
      },
      "source": [
        "Got 1.0 precision 🤯"
      ]
    },
    {
      "cell_type": "code",
      "metadata": {
        "colab": {
          "base_uri": "https://localhost:8080/"
        },
        "id": "MnyA9gEnPWsx",
        "outputId": "e6bfd8fa-4fd0-4b9b-ea95-8420da7b5241"
      },
      "source": [
        "!pip install scikit-plot"
      ],
      "execution_count": 92,
      "outputs": [
        {
          "output_type": "stream",
          "text": [
            "Collecting scikit-plot\n",
            "  Downloading https://files.pythonhosted.org/packages/7c/47/32520e259340c140a4ad27c1b97050dd3254fdc517b1d59974d47037510e/scikit_plot-0.3.7-py3-none-any.whl\n",
            "Requirement already satisfied: matplotlib>=1.4.0 in /usr/local/lib/python3.7/dist-packages (from scikit-plot) (3.2.2)\n",
            "Requirement already satisfied: joblib>=0.10 in /usr/local/lib/python3.7/dist-packages (from scikit-plot) (1.0.1)\n",
            "Requirement already satisfied: scikit-learn>=0.18 in /usr/local/lib/python3.7/dist-packages (from scikit-plot) (0.22.2.post1)\n",
            "Requirement already satisfied: scipy>=0.9 in /usr/local/lib/python3.7/dist-packages (from scikit-plot) (1.4.1)\n",
            "Requirement already satisfied: cycler>=0.10 in /usr/local/lib/python3.7/dist-packages (from matplotlib>=1.4.0->scikit-plot) (0.10.0)\n",
            "Requirement already satisfied: pyparsing!=2.0.4,!=2.1.2,!=2.1.6,>=2.0.1 in /usr/local/lib/python3.7/dist-packages (from matplotlib>=1.4.0->scikit-plot) (2.4.7)\n",
            "Requirement already satisfied: numpy>=1.11 in /usr/local/lib/python3.7/dist-packages (from matplotlib>=1.4.0->scikit-plot) (1.19.5)\n",
            "Requirement already satisfied: python-dateutil>=2.1 in /usr/local/lib/python3.7/dist-packages (from matplotlib>=1.4.0->scikit-plot) (2.8.1)\n",
            "Requirement already satisfied: kiwisolver>=1.0.1 in /usr/local/lib/python3.7/dist-packages (from matplotlib>=1.4.0->scikit-plot) (1.3.1)\n",
            "Requirement already satisfied: six in /usr/local/lib/python3.7/dist-packages (from cycler>=0.10->matplotlib>=1.4.0->scikit-plot) (1.15.0)\n",
            "Installing collected packages: scikit-plot\n",
            "Successfully installed scikit-plot-0.3.7\n"
          ],
          "name": "stdout"
        }
      ]
    },
    {
      "cell_type": "code",
      "metadata": {
        "colab": {
          "base_uri": "https://localhost:8080/",
          "height": 441
        },
        "id": "1Vdy91OTKXvT",
        "outputId": "dbb99702-b9e7-4be2-9527-0402ce6093cb"
      },
      "source": [
        "import scikitplot as skplt\n",
        "\n",
        "skplt.metrics.plot_confusion_matrix(\n",
        "    y_test,\n",
        "    y_pred,\n",
        "    figsize=(6,6))\n",
        "save_fig('confusion-matrix')"
      ],
      "execution_count": 93,
      "outputs": [
        {
          "output_type": "display_data",
          "data": {
            "image/png": "[encoded data removed]",
            "text/plain": [
              "<Figure size 432x432 with 2 Axes>"
            ]
          },
          "metadata": {
            "tags": [],
            "needs_background": "light"
          }
        }
      ]
    }
  ]
}
