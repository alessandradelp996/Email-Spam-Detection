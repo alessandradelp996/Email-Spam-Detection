{
  "nbformat": 4,
  "nbformat_minor": 0,
  "metadata": {
    "colab": {
      "name": "EmailSpam-AD.ipynb",
      "provenance": [],
      "collapsed_sections": [
        "peNLZjZcBlU1",
        "GAoL9pEUC3J2",
        "PLrj89P-F9EE",
        "f3IdDnc_GIRe",
        "S_OwIqF7G3J5",
        "7ZitBQmJTGDX"
      ]
    },
    "kernelspec": {
      "name": "python3",
      "display_name": "Python 3"
    },
    "language_info": {
      "name": "python"
    }
  },
  "cells": [
    {
      "cell_type": "markdown",
      "metadata": {
        "id": "kfCN5EbrBniN"
      },
      "source": [
        "# Email Spam Detection (Semi-supervised AD)"
      ]
    },
    {
      "cell_type": "markdown",
      "metadata": {
        "id": "lO35R1dkBqzs"
      },
      "source": [
        "Esempio di tecniche di **Semi-supervised Anomaly Detection** sul dataset delle email di Enron! Per la parte di classificazione, consulta il notebook \"Email Ham-Spam Classification\". Enjoy! 😎\n",
        "\n",
        "\n",
        "**N.B.** Questo notebook è un estratto!"
      ]
    },
    {
      "cell_type": "markdown",
      "metadata": {
        "id": "peNLZjZcBlU1"
      },
      "source": [
        "## Get the data using Kaggle API"
      ]
    },
    {
      "cell_type": "code",
      "metadata": {
        "colab": {
          "base_uri": "https://localhost:8080/"
        },
        "id": "2lDkfDUB8153",
        "outputId": "f106594d-d773-48f3-dab8-bf03497d932a"
      },
      "source": [
        "!pip install kaggle"
      ],
      "execution_count": 1,
      "outputs": [
        {
          "output_type": "stream",
          "text": [
            "Requirement already satisfied: kaggle in /usr/local/lib/python3.7/dist-packages (1.5.10)\n",
            "Requirement already satisfied: certifi in /usr/local/lib/python3.7/dist-packages (from kaggle) (2020.12.5)\n",
            "Requirement already satisfied: python-dateutil in /usr/local/lib/python3.7/dist-packages (from kaggle) (2.8.1)\n",
            "Requirement already satisfied: tqdm in /usr/local/lib/python3.7/dist-packages (from kaggle) (4.41.1)\n",
            "Requirement already satisfied: requests in /usr/local/lib/python3.7/dist-packages (from kaggle) (2.23.0)\n",
            "Requirement already satisfied: urllib3 in /usr/local/lib/python3.7/dist-packages (from kaggle) (1.24.3)\n",
            "Requirement already satisfied: python-slugify in /usr/local/lib/python3.7/dist-packages (from kaggle) (4.0.1)\n",
            "Requirement already satisfied: six>=1.10 in /usr/local/lib/python3.7/dist-packages (from kaggle) (1.15.0)\n",
            "Requirement already satisfied: chardet<4,>=3.0.2 in /usr/local/lib/python3.7/dist-packages (from requests->kaggle) (3.0.4)\n",
            "Requirement already satisfied: idna<3,>=2.5 in /usr/local/lib/python3.7/dist-packages (from requests->kaggle) (2.10)\n",
            "Requirement already satisfied: text-unidecode>=1.3 in /usr/local/lib/python3.7/dist-packages (from python-slugify->kaggle) (1.3)\n"
          ],
          "name": "stdout"
        }
      ]
    },
    {
      "cell_type": "code",
      "metadata": {
        "colab": {
          "resources": {
            "http://localhost:8080/nbextensions/google.colab/files.js": {
              "data": "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",
              "ok": true,
              "headers": [
                [
                  "content-type",
                  "application/javascript"
                ]
              ],
              "status": 200,
              "status_text": ""
            }
          },
          "base_uri": "https://localhost:8080/",
          "height": 89
        },
        "id": "3EU1FMCG890o",
        "outputId": "e8ea4e76-52bd-4f20-8888-ad5c0f1ce6d6"
      },
      "source": [
        "from google.colab import files\n",
        "files.upload()"
      ],
      "execution_count": 2,
      "outputs": [
        {
          "output_type": "display_data",
          "data": {
            "text/html": [
              "\n",
              "     <input type=\"file\" id=\"files-6bb18013-aa88-4b47-91b3-74a753cdbfc3\" name=\"files[]\" multiple disabled\n",
              "        style=\"border:none\" />\n",
              "     <output id=\"result-6bb18013-aa88-4b47-91b3-74a753cdbfc3\">\n",
              "      Upload widget is only available when the cell has been executed in the\n",
              "      current browser session. Please rerun this cell to enable.\n",
              "      </output>\n",
              "      <script src=\"/nbextensions/google.colab/files.js\"></script> "
            ],
            "text/plain": [
              "<IPython.core.display.HTML object>"
            ]
          },
          "metadata": {
            "tags": []
          }
        },
        {
          "output_type": "stream",
          "text": [
            "Saving kaggle.json to kaggle.json\n"
          ],
          "name": "stdout"
        },
        {
          "output_type": "execute_result",
          "data": {
            "text/plain": [
              "{'kaggle.json': b'{\"username\":\"delpreales\",\"key\":\"b44e7562e691d5b6a3494ddd5e4d9a57\"}'}"
            ]
          },
          "metadata": {
            "tags": []
          },
          "execution_count": 2
        }
      ]
    },
    {
      "cell_type": "code",
      "metadata": {
        "id": "cdngY68b89yE"
      },
      "source": [
        "!mkdir ~/.kaggle\n",
        "!cp kaggle.json ~/.kaggle/"
      ],
      "execution_count": 3,
      "outputs": []
    },
    {
      "cell_type": "code",
      "metadata": {
        "id": "pSsw0lEr89vY"
      },
      "source": [
        "!chmod 600 ~/.kaggle/kaggle.json"
      ],
      "execution_count": 4,
      "outputs": []
    },
    {
      "cell_type": "code",
      "metadata": {
        "colab": {
          "base_uri": "https://localhost:8080/"
        },
        "id": "MbEJnewA838h",
        "outputId": "7635c39d-2e4c-4737-e58d-4524756db230"
      },
      "source": [
        "!kaggle datasets download -d \"veleon/ham-and-spam-dataset\""
      ],
      "execution_count": 6,
      "outputs": [
        {
          "output_type": "stream",
          "text": [
            "Downloading ham-and-spam-dataset.zip to /content\n",
            " 74% 9.00M/12.2M [00:00<00:00, 24.8MB/s]\n",
            "100% 12.2M/12.2M [00:00<00:00, 30.9MB/s]\n"
          ],
          "name": "stdout"
        }
      ]
    },
    {
      "cell_type": "code",
      "metadata": {
        "id": "uSIBo5pG835p"
      },
      "source": [
        "!unzip 'ham-and-spam-dataset.zip'"
      ],
      "execution_count": null,
      "outputs": []
    },
    {
      "cell_type": "markdown",
      "metadata": {
        "id": "GAoL9pEUC3J2"
      },
      "source": [
        "## Data Loading"
      ]
    },
    {
      "cell_type": "code",
      "metadata": {
        "id": "hHFhZ8Po832k"
      },
      "source": [
        "import pandas as pd\n",
        "import numpy as np\n",
        "import nltk\n",
        "import os\n",
        "import re\n",
        "from gensim.models import Word2Vec"
      ],
      "execution_count": 8,
      "outputs": []
    },
    {
      "cell_type": "code",
      "metadata": {
        "id": "pMECVFxgEwhz"
      },
      "source": [
        "ds_dir = 'hamnspam'\n",
        "\n",
        "def load_ds():\n",
        "  mails = []\n",
        "  labels = []\n",
        "  for dir in os.listdir(ds_dir):\n",
        "    for file in os.listdir(ds_dir+'/'+dir):\n",
        "      mail = open(ds_dir+'/'+dir+'/'+file,'r', encoding='latin-1')\n",
        "      text = mail.readlines()\n",
        "      text = \"\".join(text)\n",
        "      mails.append(text)\n",
        "      labels.append(dir)\n",
        "  return mails, labels"
      ],
      "execution_count": 9,
      "outputs": []
    },
    {
      "cell_type": "code",
      "metadata": {
        "id": "8LvsGtNIFnzN"
      },
      "source": [
        "mails, labels = load_ds()"
      ],
      "execution_count": 10,
      "outputs": []
    },
    {
      "cell_type": "code",
      "metadata": {
        "colab": {
          "base_uri": "https://localhost:8080/",
          "height": 154
        },
        "id": "UeEcp6RvFnxl",
        "outputId": "fd46a9ee-de51-4449-984b-8b6a237b410e"
      },
      "source": [
        "mails[0]"
      ],
      "execution_count": 11,
      "outputs": [
        {
          "output_type": "execute_result",
          "data": {
            "application/vnd.google.colaboratory.intrinsic+json": {
              "type": "string"
            },
            "text/plain": [
              "'From rssfeeds@jmason.org  Mon Oct  7 12:05:24 2002\\nReturn-Path: <rssfeeds@example.com>\\nDelivered-To: yyyy@localhost.example.com\\nReceived: from localhost (jalapeno [127.0.0.1])\\n\\tby jmason.org (Postfix) with ESMTP id CEBF516F49\\n\\tfor <jm@localhost>; Mon,  7 Oct 2002 12:04:01 +0100 (IST)\\nReceived: from jalapeno [127.0.0.1]\\n\\tby localhost with IMAP (fetchmail-5.9.0)\\n\\tfor jm@localhost (single-drop); Mon, 07 Oct 2002 12:04:01 +0100 (IST)\\nReceived: from dogma.slashnull.org (localhost [127.0.0.1]) by\\n    dogma.slashnull.org (8.11.6/8.11.6) with ESMTP id g9780pK23313 for\\n    <jm@jmason.org>; Mon, 7 Oct 2002 09:00:52 +0100\\nMessage-Id: <200210070800.g9780pK23313@dogma.slashnull.org>\\nTo: yyyy@example.com\\nFrom: guardian <rssfeeds@example.com>\\nSubject: Ministers issue gag orders for MI5 trial\\nDate: Mon, 07 Oct 2002 08:00:51 -0000\\nContent-Type: text/plain; encoding=utf-8\\nX-Spam-Status: No, hits=-937.6 required=5.0\\n\\ttests=AWL,T_NONSENSE_FROM_40_50\\n\\tversion=2.50-cvs\\nX-Spam-Level: \\n\\nURL: http://www.newsisfree.com/click/-1,8622119,215/\\nDate: 2002-10-07T03:52:57+01:00\\n\\n*UK latest: *Blunkett and Straw accused of trying to intimidate judge as \\nShayler case starts today at Old Bailey.\\n\\n\\n'"
            ]
          },
          "metadata": {
            "tags": []
          },
          "execution_count": 11
        }
      ]
    },
    {
      "cell_type": "code",
      "metadata": {
        "colab": {
          "base_uri": "https://localhost:8080/",
          "height": 35
        },
        "id": "EveE0P40Ewbr",
        "outputId": "e8576c0c-8d3f-4eb2-83c0-c9f0ca0fb830"
      },
      "source": [
        "labels[0]"
      ],
      "execution_count": 12,
      "outputs": [
        {
          "output_type": "execute_result",
          "data": {
            "application/vnd.google.colaboratory.intrinsic+json": {
              "type": "string"
            },
            "text/plain": [
              "'ham'"
            ]
          },
          "metadata": {
            "tags": []
          },
          "execution_count": 12
        }
      ]
    },
    {
      "cell_type": "markdown",
      "metadata": {
        "id": "PLrj89P-F9EE"
      },
      "source": [
        "## Pre-processing"
      ]
    },
    {
      "cell_type": "code",
      "metadata": {
        "id": "jiD0PlsoF_xe"
      },
      "source": [
        "new_mails=[]\n",
        "for i in range(len(mails)):\n",
        "  mails[i] = mails[i].strip()     # rimuovo blanks\n",
        "  new_mails.append(mails[i].lower())  # converto tutto in formato lowercase"
      ],
      "execution_count": 13,
      "outputs": []
    },
    {
      "cell_type": "code",
      "metadata": {
        "colab": {
          "base_uri": "https://localhost:8080/",
          "height": 154
        },
        "id": "HMONwHs0F_u2",
        "outputId": "9109c488-048b-4b83-9ba5-d2419fd89ba7"
      },
      "source": [
        "new_mails[0]"
      ],
      "execution_count": 14,
      "outputs": [
        {
          "output_type": "execute_result",
          "data": {
            "application/vnd.google.colaboratory.intrinsic+json": {
              "type": "string"
            },
            "text/plain": [
              "'from rssfeeds@jmason.org  mon oct  7 12:05:24 2002\\nreturn-path: <rssfeeds@example.com>\\ndelivered-to: yyyy@localhost.example.com\\nreceived: from localhost (jalapeno [127.0.0.1])\\n\\tby jmason.org (postfix) with esmtp id cebf516f49\\n\\tfor <jm@localhost>; mon,  7 oct 2002 12:04:01 +0100 (ist)\\nreceived: from jalapeno [127.0.0.1]\\n\\tby localhost with imap (fetchmail-5.9.0)\\n\\tfor jm@localhost (single-drop); mon, 07 oct 2002 12:04:01 +0100 (ist)\\nreceived: from dogma.slashnull.org (localhost [127.0.0.1]) by\\n    dogma.slashnull.org (8.11.6/8.11.6) with esmtp id g9780pk23313 for\\n    <jm@jmason.org>; mon, 7 oct 2002 09:00:52 +0100\\nmessage-id: <200210070800.g9780pk23313@dogma.slashnull.org>\\nto: yyyy@example.com\\nfrom: guardian <rssfeeds@example.com>\\nsubject: ministers issue gag orders for mi5 trial\\ndate: mon, 07 oct 2002 08:00:51 -0000\\ncontent-type: text/plain; encoding=utf-8\\nx-spam-status: no, hits=-937.6 required=5.0\\n\\ttests=awl,t_nonsense_from_40_50\\n\\tversion=2.50-cvs\\nx-spam-level: \\n\\nurl: http://www.newsisfree.com/click/-1,8622119,215/\\ndate: 2002-10-07t03:52:57+01:00\\n\\n*uk latest: *blunkett and straw accused of trying to intimidate judge as \\nshayler case starts today at old bailey.'"
            ]
          },
          "metadata": {
            "tags": []
          },
          "execution_count": 14
        }
      ]
    },
    {
      "cell_type": "markdown",
      "metadata": {
        "id": "f3IdDnc_GIRe"
      },
      "source": [
        "## Tokenization"
      ]
    },
    {
      "cell_type": "code",
      "metadata": {
        "colab": {
          "base_uri": "https://localhost:8080/"
        },
        "id": "DWrmX2-iGH_-",
        "outputId": "7d2b535c-d935-4c48-b1ec-f72c0b4f44c7"
      },
      "source": [
        "nltk.download('punkt')\n",
        "from nltk import word_tokenize\n",
        "\n",
        "for i in range(len(mails)):\n",
        "  new_mails[i] = word_tokenize(new_mails[i])     # word tokenizer"
      ],
      "execution_count": 15,
      "outputs": [
        {
          "output_type": "stream",
          "text": [
            "[nltk_data] Downloading package punkt to /root/nltk_data...\n",
            "[nltk_data]   Unzipping tokenizers/punkt.zip.\n"
          ],
          "name": "stdout"
        }
      ]
    },
    {
      "cell_type": "code",
      "metadata": {
        "colab": {
          "base_uri": "https://localhost:8080/",
          "height": 35
        },
        "id": "iV891AHCGd8c",
        "outputId": "0539e1d0-e017-4cad-d707-4fa1d7ff4efe"
      },
      "source": [
        "new_mails[0][0]"
      ],
      "execution_count": 16,
      "outputs": [
        {
          "output_type": "execute_result",
          "data": {
            "application/vnd.google.colaboratory.intrinsic+json": {
              "type": "string"
            },
            "text/plain": [
              "'from'"
            ]
          },
          "metadata": {
            "tags": []
          },
          "execution_count": 16
        }
      ]
    },
    {
      "cell_type": "markdown",
      "metadata": {
        "id": "DWGG0vm1GXkB"
      },
      "source": [
        "## Removing Stop-Words"
      ]
    },
    {
      "cell_type": "code",
      "metadata": {
        "colab": {
          "base_uri": "https://localhost:8080/"
        },
        "id": "V5U6WCEjGH9H",
        "outputId": "66448493-88e5-47e2-aea9-04f5f8efc385"
      },
      "source": [
        "nltk.download('stopwords')\n",
        "from nltk.corpus import stopwords\n",
        "from string import punctuation\n",
        "from string import digits\n",
        "\n",
        "sw = set(stopwords.words('english'))    # la verifica sugli insiemi è + veloce\n",
        "\n",
        "# aggiungo al set di stopwords anche le punteggiature\n",
        "sw = sw.union(set(punctuation))\n",
        "# aggiungo la parola \"subject\" per rimuoverla \n",
        "sw = sw.union({'subject'})\n",
        "\n",
        "for i in range(len(mails)):\n",
        "    new_mails[i] = [word for word in new_mails[i] if word not in sw and not len(word)<=2\n",
        "                    or word=='re' and len(set([char for char in word]).intersection(set([char for char in digits])))==0]    # rimuovo stopwords e sillabe"
      ],
      "execution_count": 17,
      "outputs": [
        {
          "output_type": "stream",
          "text": [
            "[nltk_data] Downloading package stopwords to /root/nltk_data...\n",
            "[nltk_data]   Unzipping corpora/stopwords.zip.\n"
          ],
          "name": "stdout"
        }
      ]
    },
    {
      "cell_type": "markdown",
      "metadata": {
        "id": "S_OwIqF7G3J5"
      },
      "source": [
        "## Lemmatization"
      ]
    },
    {
      "cell_type": "markdown",
      "metadata": {
        "id": "ebBsBI0AHBp1"
      },
      "source": [
        "Per la lemmatizzazione uso **WordNet**, per cui vado prima a effettuare il **PoS tagging** (Part of Speech). "
      ]
    },
    {
      "cell_type": "code",
      "metadata": {
        "colab": {
          "base_uri": "https://localhost:8080/"
        },
        "id": "YEvFnIbVF_sc",
        "outputId": "4dd65296-f8ea-4643-8277-76283dc457a4"
      },
      "source": [
        "from nltk.stem import WordNetLemmatizer\n",
        "from nltk import pos_tag\n",
        "nltk.download('wordnet')\n",
        "nltk.download('averaged_perceptron_tagger')\n",
        "\n",
        "\n",
        "def wordnet_tag(tagged_mail):\n",
        "\n",
        "    wordnet_tag = {'NN':'n', 'JJ':'a',   # noun & adjective\n",
        "                  'VB':'v', 'RB':'r'}   # verb & adverb\n",
        "    try:\n",
        "        return wordnet_tag[tagged_mail[:2]]\n",
        "    except:\n",
        "        return 'n'\n",
        "\n",
        "\n",
        "wn = WordNetLemmatizer()\n",
        "mails_tagged = []\n",
        "for i in range(len(mails)):\n",
        "    mails_tagged.append([wn.lemmatize(word, pos=wordnet_tag(tag)) for word, tag in pos_tag(new_mails[i])])"
      ],
      "execution_count": 18,
      "outputs": [
        {
          "output_type": "stream",
          "text": [
            "[nltk_data] Downloading package wordnet to /root/nltk_data...\n",
            "[nltk_data]   Unzipping corpora/wordnet.zip.\n",
            "[nltk_data] Downloading package averaged_perceptron_tagger to\n",
            "[nltk_data]     /root/nltk_data...\n",
            "[nltk_data]   Unzipping taggers/averaged_perceptron_tagger.zip.\n"
          ],
          "name": "stdout"
        }
      ]
    },
    {
      "cell_type": "markdown",
      "metadata": {
        "id": "fDBItwtBHw4l"
      },
      "source": [
        "## SEMI-SUPERVISED ANOMALY DETECTION"
      ]
    },
    {
      "cell_type": "markdown",
      "metadata": {
        "id": "6uBAtumqSCor"
      },
      "source": [
        "**DESCRIZIONE DEL TASK**<br>L'anomaly detection semi-supervisionata prevede l'utilizzo di un modello addestrato sulla classe normale, in quanto si assume questa classe come conosciuta, mentre la classe anomala è ignota. Si seleziona come classe normale la classe più popolosa (ham) e come anomalie la classe spam."
      ]
    },
    {
      "cell_type": "markdown",
      "metadata": {
        "id": "ZxK8s4FZH0TC"
      },
      "source": [
        "La scelta della **rappresentazione** è fondamentale. Ad esempio, TD-IDF potrebbe far perdere informazioni significative per il riconoscimento degli spam, questo perché una rappresentazione basata sulla frequenza dei token non pone attenzione su termini poco frequenti ma molto significativi.<br> Per questo motivo si è scelto di usare una rappresentazione matriciale a dimensione **N*M**, dove N è il numero di email del dataset e M è la lunghezza massima delle email. Le feature della matrice corrispondono alla rappresentazione vettoriale delle singole email, cioè all’embedding di tutte le parole ottenute con Word2Vec. Tuttavia, per ridurre la complessità, si è scelto quindi di usare un word embedding di size 20 e di non includere nel vocabolario parole con frequenza inferiore a 10. Un’ulteriore semplificazione è stata effettuata ponendo il padding a 100, troncando quindi ogni email a dimensione 100. Questo perché la maggior parte delle email presenta meno di 100 token."
      ]
    },
    {
      "cell_type": "markdown",
      "metadata": {
        "id": "7ZitBQmJTGDX"
      },
      "source": [
        "### Word2Vec Vocabulary"
      ]
    },
    {
      "cell_type": "markdown",
      "metadata": {
        "id": "8efWQoZGTI8F"
      },
      "source": [
        "Creo una rappresentazione in cui ogni email è rappresentata dagli embedding delle sue parole."
      ]
    },
    {
      "cell_type": "code",
      "metadata": {
        "colab": {
          "base_uri": "https://localhost:8080/"
        },
        "id": "1AM3ZXYyTBOI",
        "outputId": "d5b849a1-562d-4531-907b-d64c24a7394e"
      },
      "source": [
        "from gensim.models import Word2Vec\n",
        "\n",
        "w2v_model = Word2Vec(min_count=10,\n",
        "                     window=2,\n",
        "                     size=20,\n",
        "                     sample=6e-5,\n",
        "                     alpha=0.03,\n",
        "                     min_alpha=0.0007)\n",
        "\n",
        "w2v_model.build_vocab(mails_tagged, progress_per=10000)\n",
        "w2v_model.train(mails_tagged, total_examples=w2v_model.corpus_count, epochs=20)\n",
        "word_embedding = w2v_model[w2v_model.wv.vocab]\n",
        "\n",
        "vocab = list(w2v_model.wv.vocab.keys())"
      ],
      "execution_count": 19,
      "outputs": [
        {
          "output_type": "stream",
          "text": [
            "/usr/local/lib/python3.7/dist-packages/ipykernel_launcher.py:12: DeprecationWarning: Call to deprecated `__getitem__` (Method will be removed in 4.0.0, use self.wv.__getitem__() instead).\n",
            "  if sys.path[0] == '':\n"
          ],
          "name": "stderr"
        }
      ]
    },
    {
      "cell_type": "code",
      "metadata": {
        "colab": {
          "base_uri": "https://localhost:8080/"
        },
        "id": "rgd24ZFdTBLa",
        "outputId": "82bce77b-1bfc-4912-f9cb-8b7b8b062d3d"
      },
      "source": [
        "embedded_ds = []\n",
        "for mail in mails_tagged:\n",
        "  embedding = []\n",
        "  for i in set(mail):   # elimino i duplicati per ridurre la complessità\n",
        "    if i in vocab:\n",
        "      embedding.append(w2v_model[i])\n",
        "  embedding = np.array(embedding)\n",
        "  if len(embedding.shape) > 1:\n",
        "    embedding = np.reshape(embedding, embedding.shape[0]*embedding.shape[1])\n",
        "  embedded_ds.append(embedding)\n",
        "\n",
        "\n",
        "embedded_np = np.array(embedded_ds)\n",
        "print(embedded_np.shape)\n",
        "\n",
        "# padding\n",
        "from keras.preprocessing import sequence\n",
        "pad_ds = sequence.pad_sequences(embedded_np, padding='post', dtype='float32', maxlen=100)\n",
        "print(pad_ds.shape)"
      ],
      "execution_count": 20,
      "outputs": [
        {
          "output_type": "stream",
          "text": [
            "/usr/local/lib/python3.7/dist-packages/ipykernel_launcher.py:6: DeprecationWarning: Call to deprecated `__getitem__` (Method will be removed in 4.0.0, use self.wv.__getitem__() instead).\n",
            "  \n",
            "/usr/local/lib/python3.7/dist-packages/ipykernel_launcher.py:13: VisibleDeprecationWarning: Creating an ndarray from ragged nested sequences (which is a list-or-tuple of lists-or-tuples-or ndarrays with different lengths or shapes) is deprecated. If you meant to do this, you must specify 'dtype=object' when creating the ndarray\n",
            "  del sys.path[0]\n"
          ],
          "name": "stderr"
        },
        {
          "output_type": "stream",
          "text": [
            "(3052,)\n",
            "(3052, 100)\n"
          ],
          "name": "stdout"
        }
      ]
    },
    {
      "cell_type": "markdown",
      "metadata": {
        "id": "a8dy7EgPTcyL"
      },
      "source": [
        "### Adapt data for AD"
      ]
    },
    {
      "cell_type": "code",
      "metadata": {
        "id": "0x3-gkQ9Tqpj"
      },
      "source": [
        "import matplotlib.pyplot as plt\n",
        "from sklearn.model_selection import train_test_split\n",
        "from sklearn.metrics import classification_report, confusion_matrix, roc_curve"
      ],
      "execution_count": 22,
      "outputs": []
    },
    {
      "cell_type": "code",
      "metadata": {
        "id": "w_zTrXM9TBF6"
      },
      "source": [
        "e_labels=np.array(labels)\n",
        "e_labels[e_labels=='ham'] = 0\n",
        "e_labels[e_labels=='spam'] = 1\n",
        "e_labels = np.array(e_labels, dtype=np.int32)\n",
        "\n",
        "normal = []\n",
        "normal_labels = []\n",
        "spam = []\n",
        "spam_labels = []\n",
        "for i in range(len(pad_ds)):\n",
        "  if e_labels[i]==0:\n",
        "    normal.append(pad_ds[i])\n",
        "    normal_labels.append(e_labels[i])\n",
        "  else:\n",
        "    spam.append(pad_ds[i])\n",
        "    spam_labels.append(e_labels[i])\n",
        "\n",
        "normal = np.array(normal)\n",
        "normal_labels = np.array(normal_labels)\n",
        "spam = np.array(spam)\n",
        "spam_labels = np.array(spam_labels, dtype=np.float32)\n",
        "\n",
        "X_train, X_test, y_train, y_test = train_test_split(normal, normal_labels, test_size=0.3, random_state=42)\n",
        "X_test = np.append(X_test, spam, axis=0)\n",
        "y_test = np.append(y_test, spam_labels)"
      ],
      "execution_count": 23,
      "outputs": []
    },
    {
      "cell_type": "markdown",
      "metadata": {
        "id": "zuAoRYnrT8ro"
      },
      "source": [
        "### **LSTM AutoEncoder**"
      ]
    },
    {
      "cell_type": "markdown",
      "metadata": {
        "id": "fnu2IgRhUA_c"
      },
      "source": [
        "Implemento un semplice **autoencoder** LSTM da addestrare sui dati normali. In questo modo, l'autoencoder sarà in grado di **ricostruire** bene email normali, mentre incontrerà difficoltà nel ricostruire email anomale!\n",
        "Trovare un testo che l’autoencoder non è riuscito a ricostruire fedelmente significa trovarsi di fronte a uno **spam**!"
      ]
    },
    {
      "cell_type": "code",
      "metadata": {
        "colab": {
          "base_uri": "https://localhost:8080/"
        },
        "id": "GSvpO3uLTA_z",
        "outputId": "0e8c6491-7951-4270-b6f7-144dc7350816"
      },
      "source": [
        "from keras.models import Sequential\n",
        "from keras.layers import RepeatVector\n",
        "from keras.layers import TimeDistributed\n",
        "from keras.layers import Dense, LSTM\n",
        "\n",
        "\n",
        "timesteps = 1\n",
        "n_features = 100\n",
        "\n",
        "X_train = np.array(X_train)\n",
        "X_train = X_train.reshape(X_train.shape[0], timesteps, n_features)\n",
        "\n",
        "\n",
        "# define model\n",
        "model = Sequential()\n",
        "model.add(LSTM(256, activation='relu', input_shape=(timesteps,n_features), return_sequences=True))\n",
        "model.add(LSTM(128, activation='relu', return_sequences=False))\n",
        "model.add(RepeatVector(timesteps))\n",
        "model.add(LSTM(128, activation='relu', return_sequences=True))\n",
        "model.add(LSTM(256, activation='relu', return_sequences=True))\n",
        "model.add(TimeDistributed(Dense(n_features)))\n",
        "model.compile(optimizer='adam', loss='mse')\n",
        "model.summary()"
      ],
      "execution_count": 24,
      "outputs": [
        {
          "output_type": "stream",
          "text": [
            "Model: \"sequential\"\n",
            "_________________________________________________________________\n",
            "Layer (type)                 Output Shape              Param #   \n",
            "=================================================================\n",
            "lstm (LSTM)                  (None, 1, 256)            365568    \n",
            "_________________________________________________________________\n",
            "lstm_1 (LSTM)                (None, 128)               197120    \n",
            "_________________________________________________________________\n",
            "repeat_vector (RepeatVector) (None, 1, 128)            0         \n",
            "_________________________________________________________________\n",
            "lstm_2 (LSTM)                (None, 1, 128)            131584    \n",
            "_________________________________________________________________\n",
            "lstm_3 (LSTM)                (None, 1, 256)            394240    \n",
            "_________________________________________________________________\n",
            "time_distributed (TimeDistri (None, 1, 100)            25700     \n",
            "=================================================================\n",
            "Total params: 1,114,212\n",
            "Trainable params: 1,114,212\n",
            "Non-trainable params: 0\n",
            "_________________________________________________________________\n"
          ],
          "name": "stdout"
        }
      ]
    },
    {
      "cell_type": "code",
      "metadata": {
        "colab": {
          "base_uri": "https://localhost:8080/"
        },
        "id": "MWSF5sjQRfod",
        "outputId": "f1be69ae-8d16-4246-bc6b-292ff9dcb504"
      },
      "source": [
        "model.fit(X_train, X_train, epochs=20, batch_size=32)"
      ],
      "execution_count": 25,
      "outputs": [
        {
          "output_type": "stream",
          "text": [
            "Epoch 1/20\n",
            "56/56 [==============================] - 6s 22ms/step - loss: 1.7863\n",
            "Epoch 2/20\n",
            "56/56 [==============================] - 1s 20ms/step - loss: 1.0967\n",
            "Epoch 3/20\n",
            "56/56 [==============================] - 1s 20ms/step - loss: 0.8138\n",
            "Epoch 4/20\n",
            "56/56 [==============================] - 1s 20ms/step - loss: 0.5464\n",
            "Epoch 5/20\n",
            "56/56 [==============================] - 1s 20ms/step - loss: 0.4273\n",
            "Epoch 6/20\n",
            "56/56 [==============================] - 1s 20ms/step - loss: 0.3444\n",
            "Epoch 7/20\n",
            "56/56 [==============================] - 1s 20ms/step - loss: 0.3063\n",
            "Epoch 8/20\n",
            "56/56 [==============================] - 1s 20ms/step - loss: 0.2659\n",
            "Epoch 9/20\n",
            "56/56 [==============================] - 1s 21ms/step - loss: 0.2474\n",
            "Epoch 10/20\n",
            "56/56 [==============================] - 1s 20ms/step - loss: 0.2149\n",
            "Epoch 11/20\n",
            "56/56 [==============================] - 1s 20ms/step - loss: 0.2029\n",
            "Epoch 12/20\n",
            "56/56 [==============================] - 1s 20ms/step - loss: 0.1859\n",
            "Epoch 13/20\n",
            "56/56 [==============================] - 1s 20ms/step - loss: 0.1757\n",
            "Epoch 14/20\n",
            "56/56 [==============================] - 1s 20ms/step - loss: 0.1701\n",
            "Epoch 15/20\n",
            "56/56 [==============================] - 1s 20ms/step - loss: 0.1543\n",
            "Epoch 16/20\n",
            "56/56 [==============================] - 1s 21ms/step - loss: 0.1479\n",
            "Epoch 17/20\n",
            "56/56 [==============================] - 1s 21ms/step - loss: 0.1402\n",
            "Epoch 18/20\n",
            "56/56 [==============================] - 1s 21ms/step - loss: 0.1296\n",
            "Epoch 19/20\n",
            "56/56 [==============================] - 1s 21ms/step - loss: 0.1261\n",
            "Epoch 20/20\n",
            "56/56 [==============================] - 1s 21ms/step - loss: 0.1146\n"
          ],
          "name": "stdout"
        },
        {
          "output_type": "execute_result",
          "data": {
            "text/plain": [
              "<tensorflow.python.keras.callbacks.History at 0x7f9d283e8ad0>"
            ]
          },
          "metadata": {
            "tags": []
          },
          "execution_count": 25
        }
      ]
    },
    {
      "cell_type": "markdown",
      "metadata": {
        "id": "HPIenBbrUeDj"
      },
      "source": [
        "Per distinguere le email normali da quelle spam, usiamo uno score calcolato sugli **errori di ricostruzione** dei samples. Lo score di outlierness è stato calcolato con la distanza di Chebyshev."
      ]
    },
    {
      "cell_type": "markdown",
      "metadata": {
        "id": "YJhDH_IuVJ3E"
      },
      "source": [
        "\n",
        "\n",
        "1.   Usiamo l'autoencoder per ricostruire gli esempi del test set:\n",
        "\n"
      ]
    },
    {
      "cell_type": "code",
      "metadata": {
        "id": "rhSsFX3sRffu"
      },
      "source": [
        "X_test = np.array(X_test)\n",
        "X_test = X_test.reshape(X_test.shape[0], timesteps, n_features)\n",
        "\n",
        "y_pred = model.predict(X_test)"
      ],
      "execution_count": 26,
      "outputs": []
    },
    {
      "cell_type": "markdown",
      "metadata": {
        "id": "YDTWgHWZVRsI"
      },
      "source": [
        "\n",
        "2.   Calcoliamo lo score di outlierness:\n",
        "\n"
      ]
    },
    {
      "cell_type": "code",
      "metadata": {
        "id": "t2Hx7HaSVEP-"
      },
      "source": [
        "score = []\n",
        "for i in range(len(y_test)):\n",
        "    score.append(np.mean(abs(y_test[i]-y_pred[i])))"
      ],
      "execution_count": 27,
      "outputs": []
    },
    {
      "cell_type": "markdown",
      "metadata": {
        "id": "Qf_iaUe5Vb_M"
      },
      "source": [
        "## Spam Detection Results"
      ]
    },
    {
      "cell_type": "markdown",
      "metadata": {
        "id": "B6h9xnZPVfZD"
      },
      "source": [
        "Confrontiamo le distribuzioni dei sample originali e delle ricostruzioni:"
      ]
    },
    {
      "cell_type": "code",
      "metadata": {
        "id": "Q78k3490Vjvh"
      },
      "source": [
        "# metodi di utilità\n",
        "!mkdir plots\n",
        "def save_fig(fig_id, tight_layout=True, fig_extension=\"png\", resolution=300):\n",
        "    path = os.path.join('plots/', fig_id + \".\" + fig_extension)\n",
        "    if tight_layout:\n",
        "        plt.tight_layout()\n",
        "    plt.savefig(path, format=fig_extension, dpi=resolution)\n",
        "\n",
        "def plot_roc_curve(fpr, tpr, label=None):\n",
        "    plt.plot(fpr, tpr, linewidth=5, label=label)\n",
        "    plt.plot([0, 1], [0, 1], 'k--')\n",
        "    plt.axis([0, 1, 0, 1])\n",
        "    plt.xlabel('False Positive Rate', fontsize=16)\n",
        "    plt.ylabel('True Positive Rate', fontsize=16)\n"
      ],
      "execution_count": 28,
      "outputs": []
    },
    {
      "cell_type": "code",
      "metadata": {
        "colab": {
          "base_uri": "https://localhost:8080/",
          "height": 733
        },
        "id": "qHPvCYohVENz",
        "outputId": "c6d2beb2-e485-4f7e-b1f6-ebd33033763a"
      },
      "source": [
        "import seaborn as sns\n",
        "\n",
        "plt.figure()\n",
        "ax1 = sns.distplot(y_pred[:123] , hist = False, kde = True,\n",
        "                   kde_kws = {'linewidth': 1, 'shade':True}, label='ham',color=\"blue\")\n",
        "ax2 = sns.distplot(y_pred[124:] , hist = False, kde = True,\n",
        "                   kde_kws = {'linewidth': 1, 'shade':True}, label='spam', color= \"red\")\n",
        "\n",
        "plt.title('Density function')\n",
        "save_fig('pred_density')\n",
        "\n",
        "plt.figure()\n",
        "ax1 = sns.distplot(X_test[:123] , hist = False, kde = True,\n",
        "                   kde_kws = {'linewidth': 1, 'shade':True}, label='ham',color=\"blue\")\n",
        "ax2 = sns.distplot(X_test[124:] , hist = False, kde = True,\n",
        "                   kde_kws = {'linewidth': 1, 'shade':True}, label='spam', color= \"red\")\n",
        "\n",
        "plt.title('Density function')\n",
        "save_fig('real_density')"
      ],
      "execution_count": 30,
      "outputs": [
        {
          "output_type": "stream",
          "text": [
            "/usr/local/lib/python3.7/dist-packages/seaborn/distributions.py:2557: FutureWarning: `distplot` is a deprecated function and will be removed in a future version. Please adapt your code to use either `displot` (a figure-level function with similar flexibility) or `kdeplot` (an axes-level function for kernel density plots).\n",
            "  warnings.warn(msg, FutureWarning)\n",
            "/usr/local/lib/python3.7/dist-packages/seaborn/distributions.py:2557: FutureWarning: `distplot` is a deprecated function and will be removed in a future version. Please adapt your code to use either `displot` (a figure-level function with similar flexibility) or `kdeplot` (an axes-level function for kernel density plots).\n",
            "  warnings.warn(msg, FutureWarning)\n",
            "/usr/local/lib/python3.7/dist-packages/seaborn/distributions.py:2557: FutureWarning: `distplot` is a deprecated function and will be removed in a future version. Please adapt your code to use either `displot` (a figure-level function with similar flexibility) or `kdeplot` (an axes-level function for kernel density plots).\n",
            "  warnings.warn(msg, FutureWarning)\n",
            "/usr/local/lib/python3.7/dist-packages/seaborn/distributions.py:2557: FutureWarning: `distplot` is a deprecated function and will be removed in a future version. Please adapt your code to use either `displot` (a figure-level function with similar flexibility) or `kdeplot` (an axes-level function for kernel density plots).\n",
            "  warnings.warn(msg, FutureWarning)\n"
          ],
          "name": "stderr"
        },
        {
          "output_type": "display_data",
          "data": {
            "image/png": "[encoded data removed]",
            "text/plain": [
              "<Figure size 432x288 with 1 Axes>"
            ]
          },
          "metadata": {
            "tags": [],
            "needs_background": "light"
          }
        },
        {
          "output_type": "display_data",
          "data": {
            "image/png": "[encoded data removed]",
            "text/plain": [
              "<Figure size 432x288 with 1 Axes>"
            ]
          },
          "metadata": {
            "tags": [],
            "needs_background": "light"
          }
        }
      ]
    },
    {
      "cell_type": "markdown",
      "metadata": {
        "id": "3cdCRO2AV253"
      },
      "source": [
        "Curva **ROC**"
      ]
    },
    {
      "cell_type": "code",
      "metadata": {
        "colab": {
          "base_uri": "https://localhost:8080/",
          "height": 441
        },
        "id": "TSrgl_BIVEFZ",
        "outputId": "c5e34749-d78b-4f55-c2a1-7e4d8e4c4d4c"
      },
      "source": [
        "from sklearn import metrics\n",
        "from sklearn.metrics import roc_curve\n",
        "import matplotlib.pyplot as plt\n",
        "\n",
        "fpr, tpr, thresholds = roc_curve(y_test, score)\n",
        "\n",
        "plt.figure(figsize=(8, 6))\n",
        "plot_roc_curve(fpr, tpr)\n",
        "save_fig('ROC')"
      ],
      "execution_count": 33,
      "outputs": [
        {
          "output_type": "display_data",
          "data": {
            "image/png": "[encoded data removed]",
            "text/plain": [
              "<Figure size 576x432 with 1 Axes>"
            ]
          },
          "metadata": {
            "tags": [],
            "needs_background": "light"
          }
        }
      ]
    },
    {
      "cell_type": "markdown",
      "metadata": {
        "id": "RxSDAoyoV9ha"
      },
      "source": [
        "Calcolo **AUC**"
      ]
    },
    {
      "cell_type": "code",
      "metadata": {
        "colab": {
          "base_uri": "https://localhost:8080/"
        },
        "id": "x2Q-aIAcVECq",
        "outputId": "aa6c5d57-b55b-410d-f5e1-bb1271e659d2"
      },
      "source": [
        "metrics.auc(fpr, tpr)"
      ],
      "execution_count": 34,
      "outputs": [
        {
          "output_type": "execute_result",
          "data": {
            "text/plain": [
              "0.9382410114496855"
            ]
          },
          "metadata": {
            "tags": []
          },
          "execution_count": 34
        }
      ]
    },
    {
      "cell_type": "markdown",
      "metadata": {
        "id": "vzCPXIj0WTeC"
      },
      "source": [
        "🔝🔝🔝"
      ]
    }
  ]
}